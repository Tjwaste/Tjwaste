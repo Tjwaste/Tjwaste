{
  "nbformat": 4,
  "nbformat_minor": 0,
  "metadata": {
    "colab": {
      "name": "timers perf teacher_LINEAR.ipynb",
      "provenance": [],
      "collapsed_sections": [],
      "include_colab_link": true
    },
    "kernelspec": {
      "name": "python3",
      "display_name": "Python 3"
    },
    "language_info": {
      "name": "python"
    }
  },
  "cells": [
    {
      "cell_type": "markdown",
      "metadata": {
        "id": "view-in-github",
        "colab_type": "text"
      },
      "source": [
        "<a href=\"https://colab.research.google.com/github/Tjwaste/Tjwaste/blob/main/timers_perf_teacher_LINEAR.ipynb\" target=\"_parent\"><img src=\"https://colab.research.google.com/assets/colab-badge.svg\" alt=\"Open In Colab\"/></a>"
      ]
    },
    {
      "cell_type": "code",
      "execution_count": 13,
      "metadata": {
        "colab": {
          "base_uri": "https://localhost:8080/"
        },
        "id": "abLarfuc3R3g",
        "outputId": "92c11614-dd18-4022-ded8-b964b2179c64"
      },
      "outputs": [
        {
          "output_type": "stream",
          "name": "stdout",
          "text": [
            "program is waiting for user to enter something\n",
            "g\n",
            "0.34295765899999964 performance in seconds\n",
            "342.95765899999964 performance in milliseconds\n",
            "342957.65899999964 performance in microseconds\n"
          ]
        }
      ],
      "source": [
        "# first familiarise yourself with timers in python\n",
        "# process time is time spent in the cpu\n",
        "#\n",
        "from datetime import datetime\n",
        "import time\n",
        "#\n",
        "start_the_clock = time.process_time()\n",
        "#\n",
        "userwait = input(\"program is waiting for user to enter something\\n\")\n",
        "#\n",
        "stop_the_clock = time.process_time()\n",
        "#\n",
        "time_diff = stop_the_clock - start_the_clock\n",
        "print(time_diff, 'performance in seconds')\n",
        "time_diff_ms = time_diff * 1000\n",
        "print(time_diff_ms, 'performance in milliseconds')\n",
        "time_diff_us = time_diff * 1000000 # (1 millionth of a second)\n",
        "print(time_diff_us, 'performance in microseconds')\n",
        "#\n",
        "# interesting facts\n",
        "# 18 us (microseconds) - light travel across USA \n",
        "#\n",
        "# 38 microseconds - difference in GPS satellite time because of relativity\n",
        "#"
      ]
    },
    {
      "cell_type": "code",
      "source": [
        "# examine the linear search\n",
        "import random #need random to create list of random numbers\n",
        "#\n",
        "# LINEAR SEARCH FUNCTION\n",
        "#\n",
        "def LSearch(List, ItemToFind):\n",
        "  for i in range(0, len(List)):   # loop round list until end of list reaches\n",
        "      if List[i] == ItemToFind:   # item found\n",
        "        return i                  # return index where found\n",
        "  return -1\n",
        "#\n",
        "# MAIN PROGRAM\n",
        "#\n",
        "# create a list with 10 items\n",
        "#\n",
        "MyList10 = []\n",
        "# create a list of 10 random numbers\n",
        "for x in range(10):\n",
        "  num = random.randint(1,100)\n",
        "  MyList10.append(num)\n",
        "#\n",
        "print(MyList10)\n",
        "NumToFind = MyList10[9]\n",
        "PlaceFound = 0\n",
        "#\n",
        "#\n",
        "# CALL THE LINEAR SEARCH FUNCTION\n",
        "#\n",
        "start_the_clock = time.process_time()   #START THE CLOCK\n",
        "\n",
        "PlaceFound = LSearch(MyList10, NumToFind)\n",
        "#\n",
        "#\n",
        "stop_the_clock = time.process_time()    #STOP THE CLOCK\n",
        "#\n",
        "print(\"==================================\")\n",
        "print(\"===linear search with 10 items ===\")\n",
        "print(\"==================================\")\n",
        "time_diff = stop_the_clock - start_the_clock\n",
        "print(time_diff, 'processing time in seconds')\n",
        "time_diff_ms = time_diff * 1000\n",
        "print(time_diff_ms, 'processing in milliseconds')\n",
        "if PlaceFound != -1:\n",
        "    print('found at ' + str(PlaceFound))\n",
        "else:\n",
        "    print('not found')\n",
        "#\n",
        "# ADD THE RESULTS TO THE LISTS\n",
        "#\n",
        "Results_n = []\n",
        "Results_t = [] \n",
        "Results_n.append(10)\n",
        "Results_t.append(time_diff_ms)\n",
        "print(\"==================================\")\n",
        "print(\"===Result list 10 items ===\")\n",
        "print(\"==================================\")\n",
        "print(Results_n) \n",
        "print(Results_t)  "
      ],
      "metadata": {
        "colab": {
          "base_uri": "https://localhost:8080/"
        },
        "id": "UCPAqyLu3XTL",
        "outputId": "b9089fd4-9af0-4b9e-88bb-eb69a8f70311"
      },
      "execution_count": 14,
      "outputs": [
        {
          "output_type": "stream",
          "name": "stdout",
          "text": [
            "[23, 14, 49, 90, 100, 72, 3, 19, 41, 86]\n",
            "==================================\n",
            "===linear search with 10 items ===\n",
            "==================================\n",
            "6.807799999997144e-05 processing time in seconds\n",
            "0.06807799999997144 processing in milliseconds\n",
            "found at 9\n",
            "==================================\n",
            "===Result list 10 items ===\n",
            "==================================\n",
            "[10]\n",
            "[0.06807799999997144]\n"
          ]
        }
      ]
    },
    {
      "cell_type": "code",
      "source": [
        "#MAIN\n",
        "# create a list with 100 items\n",
        "#\n",
        "MyList100 = []\n",
        "#\n",
        "# create a list of 100 random numbers\n",
        "for x in range(100):\n",
        "  num = random.randint(1,1000)\n",
        "  MyList100.append(num)\n",
        "print\n",
        "#\n",
        "print(MyList100)\n",
        "\n",
        "NumToFind = MyList100[99]\n",
        "\n",
        "PlaceFound = 0\n",
        "#\n",
        "start_the_clock = time.process_time()\n",
        "#\n",
        "PlaceFound = LSearch(MyList100, NumToFind)\n",
        "# end timer\n",
        "stop_the_clock = time.process_time()\n",
        "#\n",
        "time_diff = stop_the_clock - start_the_clock\n",
        "print(time_diff, 'processing time in seconds')\n",
        "time_diff_ms = time_diff * 1000\n",
        "print(time_diff_ms, 'processing in milliseconds')\n",
        "if PlaceFound != -1:\n",
        "    print('found at ' + str(PlaceFound))\n",
        "else:\n",
        "    print('not found')\n",
        "#\n",
        "#\n",
        "#\n",
        "# ADD THE RESULTS TO THE LISTS\n",
        "#\n",
        "Results_n.append(100)\n",
        "Results_t.append(time_diff_ms)\n",
        "print(\"==================================\")\n",
        "print(\"===Result list 100 items ===\")\n",
        "print(\"==================================\")\n",
        "print(Results_n) \n",
        "print(Results_t)  \n",
        "#\n",
        "#\n",
        "# USE MATPLOTLIB TO SHOW HOW THE LINEAR SEARCH ALGORITHM PERFORM AS n INCREASES \n",
        "#\n",
        "#\n",
        "import matplotlib.pyplot as plt\n",
        "plt.plot(Results_n, Results_t)\n",
        "plt.show()\n"
      ],
      "metadata": {
        "colab": {
          "base_uri": "https://localhost:8080/",
          "height": 445
        },
        "id": "1_t-sKMSA2HF",
        "outputId": "69827598-16b1-4432-f417-44a2932f05c3"
      },
      "execution_count": 15,
      "outputs": [
        {
          "output_type": "stream",
          "name": "stdout",
          "text": [
            "[923, 836, 98, 581, 669, 765, 64, 353, 175, 569, 457, 556, 889, 552, 751, 305, 400, 245, 794, 77, 340, 984, 832, 656, 47, 656, 235, 584, 575, 639, 109, 216, 139, 284, 725, 323, 903, 59, 950, 485, 553, 685, 544, 399, 765, 255, 492, 96, 429, 448, 671, 12, 563, 508, 639, 36, 204, 781, 751, 108, 303, 783, 991, 38, 453, 226, 392, 329, 555, 851, 131, 746, 751, 466, 78, 112, 116, 893, 419, 409, 188, 17, 538, 582, 864, 586, 779, 594, 383, 385, 759, 638, 41, 825, 1000, 912, 160, 876, 729, 618]\n",
            "7.373699999924099e-05 processing time in seconds\n",
            "0.07373699999924099 processing in milliseconds\n",
            "found at 99\n",
            "==================================\n",
            "===Result list 100 items ===\n",
            "==================================\n",
            "[10, 100]\n",
            "[0.06807799999997144, 0.07373699999924099]\n"
          ]
        },
        {
          "output_type": "display_data",
          "data": {
            "image/png": "[encoded data removed]",
            "text/plain": [
              "<Figure size 432x288 with 1 Axes>"
            ]
          },
          "metadata": {
            "needs_background": "light"
          }
        }
      ]
    },
    {
      "cell_type": "code",
      "source": [
        "#MAIN\n",
        "# create a list with 100 items\n",
        "#\n",
        "MyList1000 = []\n",
        "#\n",
        "# create a list of 100 random numbers\n",
        "for x in range(1000):\n",
        "  num = random.randint(1,1000)\n",
        "  MyList1000.append(num)\n",
        "print\n",
        "#\n",
        "print(MyList1000)\n",
        "\n",
        "NumToFind = MyList1000[998]\n",
        "\n",
        "PlaceFound = 0\n",
        "#\n",
        "start_the_clock = time.process_time()\n",
        "#\n",
        "PlaceFound = LSearch(MyList100, NumToFind)\n",
        "# end timer\n",
        "stop_the_clock = time.process_time()\n",
        "#\n",
        "time_diff = stop_the_clock - start_the_clock\n",
        "print(time_diff, 'processing time in seconds')\n",
        "time_diff_ms = time_diff * 1000\n",
        "print(time_diff_ms, 'processing in milliseconds')\n",
        "if PlaceFound != -1:\n",
        "    print('found at ' + str(PlaceFound))\n",
        "else:\n",
        "    print('not found')\n",
        "#\n",
        "#\n",
        "#\n",
        "# ADD THE RESULTS TO THE LISTS\n",
        "#\n",
        "Results_n.append(1000)\n",
        "Results_t.append(time_diff_ms)\n",
        "print(\"==================================\")\n",
        "print(\"===Result list 100 items ===\")\n",
        "print(\"==================================\")\n",
        "print(Results_n) \n",
        "print(Results_t)  \n",
        "#\n",
        "#\n",
        "# USE MATPLOTLIB TO SHOW HOW THE LINEAR SEARCH ALGORITHM PERFORM AS n INCREASES \n",
        "#\n",
        "#\n",
        "import matplotlib.pyplot as plt\n",
        "plt.plot(Results_n, Results_t)\n",
        "plt.show()\n"
      ],
      "metadata": {
        "colab": {
          "base_uri": "https://localhost:8080/",
          "height": 441
        },
        "outputId": "c9438086-04bc-4fe9-c933-8f854f118df7",
        "id": "ABHkqUpXivrG"
      },
      "execution_count": 19,
      "outputs": [
        {
          "output_type": "stream",
          "name": "stdout",
          "text": [
            "[217, 308, 459, 289, 357, 684, 178, 929, 869, 458, 433, 637, 175, 861, 509, 407, 993, 65, 282, 269, 597, 450, 297, 298, 301, 31, 475, 617, 121, 794, 402, 213, 643, 853, 374, 694, 183, 784, 781, 610, 157, 271, 670, 196, 575, 205, 29, 191, 610, 946, 74, 344, 108, 132, 542, 683, 783, 104, 273, 956, 785, 706, 794, 27, 830, 208, 353, 314, 177, 635, 746, 765, 515, 322, 913, 283, 759, 967, 873, 887, 42, 191, 295, 576, 968, 653, 587, 932, 725, 271, 258, 631, 236, 365, 413, 673, 900, 181, 469, 796, 983, 807, 334, 93, 350, 824, 27, 62, 200, 497, 875, 56, 790, 571, 301, 486, 705, 294, 330, 135, 611, 644, 305, 326, 291, 70, 570, 565, 345, 98, 998, 923, 116, 81, 290, 329, 124, 565, 667, 826, 444, 738, 597, 97, 4, 757, 504, 520, 834, 583, 646, 601, 226, 783, 622, 849, 582, 809, 788, 36, 571, 148, 783, 315, 904, 953, 276, 314, 457, 807, 344, 584, 709, 33, 613, 289, 978, 970, 94, 310, 855, 31, 335, 752, 941, 645, 538, 102, 334, 742, 878, 93, 270, 473, 88, 467, 830, 196, 53, 778, 644, 78, 773, 638, 46, 194, 966, 695, 103, 320, 585, 224, 649, 72, 243, 951, 839, 258, 955, 126, 836, 552, 393, 447, 734, 378, 971, 904, 480, 710, 958, 758, 659, 677, 15, 729, 948, 408, 829, 489, 809, 425, 340, 493, 704, 586, 605, 600, 128, 664, 480, 329, 783, 563, 187, 563, 370, 982, 169, 441, 976, 238, 717, 458, 569, 923, 923, 647, 6, 760, 517, 840, 138, 214, 518, 575, 367, 4, 14, 296, 198, 415, 995, 236, 582, 456, 787, 686, 464, 222, 783, 810, 765, 828, 381, 636, 58, 490, 564, 621, 914, 125, 763, 680, 737, 679, 909, 692, 178, 545, 973, 130, 888, 514, 757, 976, 512, 264, 933, 763, 231, 499, 863, 984, 960, 923, 758, 13, 589, 137, 383, 763, 84, 574, 230, 812, 441, 424, 725, 269, 4, 295, 310, 516, 651, 872, 342, 804, 734, 415, 102, 744, 179, 841, 443, 168, 613, 279, 84, 102, 722, 694, 788, 988, 874, 637, 783, 179, 73, 529, 252, 504, 58, 803, 673, 906, 273, 469, 422, 809, 805, 341, 91, 181, 837, 723, 895, 215, 376, 95, 996, 282, 193, 832, 99, 740, 742, 28, 985, 37, 880, 18, 986, 956, 775, 571, 911, 189, 956, 919, 822, 698, 839, 823, 943, 774, 754, 822, 256, 343, 900, 503, 395, 151, 682, 312, 410, 440, 38, 889, 205, 965, 197, 532, 847, 43, 48, 752, 171, 392, 469, 935, 620, 737, 80, 450, 570, 696, 160, 499, 98, 670, 363, 674, 440, 496, 915, 493, 151, 376, 609, 466, 881, 389, 974, 58, 57, 762, 198, 542, 830, 832, 1000, 318, 264, 113, 633, 20, 308, 578, 924, 382, 255, 730, 64, 19, 627, 521, 95, 446, 226, 251, 581, 238, 671, 5, 593, 815, 56, 774, 42, 680, 775, 473, 901, 411, 483, 70, 213, 242, 221, 406, 595, 1000, 345, 746, 353, 771, 576, 550, 198, 117, 955, 796, 673, 55, 904, 725, 931, 612, 770, 129, 76, 203, 760, 606, 797, 545, 92, 403, 471, 674, 716, 83, 872, 602, 319, 620, 133, 760, 802, 408, 380, 958, 610, 75, 559, 957, 985, 692, 356, 731, 861, 108, 674, 116, 722, 740, 926, 371, 859, 664, 721, 604, 411, 525, 188, 806, 71, 833, 272, 736, 203, 886, 594, 174, 535, 583, 201, 916, 91, 609, 442, 757, 870, 580, 933, 27, 18, 945, 149, 570, 429, 256, 514, 203, 955, 12, 235, 540, 354, 82, 71, 720, 979, 535, 121, 664, 402, 451, 11, 30, 980, 454, 903, 159, 940, 876, 76, 290, 1, 641, 731, 831, 818, 72, 85, 923, 129, 629, 91, 115, 619, 401, 23, 655, 259, 571, 108, 972, 154, 482, 25, 198, 944, 385, 300, 155, 742, 529, 405, 494, 333, 820, 129, 557, 994, 613, 555, 295, 810, 57, 99, 205, 487, 631, 607, 558, 521, 746, 977, 102, 627, 932, 76, 752, 269, 370, 151, 443, 191, 231, 46, 356, 34, 434, 780, 302, 529, 551, 184, 509, 722, 851, 87, 754, 368, 139, 845, 372, 912, 671, 85, 391, 564, 714, 540, 973, 701, 74, 265, 728, 437, 654, 242, 707, 812, 531, 957, 913, 925, 122, 614, 463, 167, 980, 358, 863, 439, 657, 653, 859, 572, 341, 89, 12, 856, 123, 229, 929, 329, 654, 704, 828, 517, 693, 945, 727, 763, 589, 991, 694, 822, 934, 180, 466, 311, 885, 477, 304, 359, 264, 511, 228, 895, 565, 706, 891, 756, 874, 199, 938, 855, 641, 422, 817, 419, 214, 687, 216, 917, 108, 497, 979, 215, 844, 816, 533, 473, 630, 876, 376, 380, 953, 630, 223, 487, 261, 790, 491, 442, 843, 571, 508, 97, 901, 955, 668, 52, 270, 402, 599, 409, 302, 697, 744, 203, 55, 649, 447, 66, 321, 860, 277, 147, 731, 953, 13, 624, 888, 587, 835, 793, 601, 542, 806, 145, 926, 809, 352, 832, 754, 99, 543, 338, 4, 128, 807, 790, 933, 649, 164, 207, 368, 4, 508, 278, 948, 554, 129, 606, 482, 612, 80, 517, 61, 369, 603, 298, 954, 450, 580, 552, 861, 321, 812, 973, 142, 199, 441, 940, 262, 584, 576, 990, 36, 433, 1000, 347, 386, 277, 754, 74, 70, 921, 162, 313, 528, 651, 467, 465, 293, 19, 580, 406, 321, 181, 435, 885, 363, 408, 28, 176, 154, 921, 446, 792, 307, 701, 424, 456, 748, 614, 475, 705, 827, 674, 5, 422, 934, 25, 29, 942, 308, 686, 545, 75, 266, 201, 571, 938, 951, 68, 273, 601, 191, 53, 759, 292, 449, 536, 377, 561, 528, 984, 564, 882, 616, 974, 402, 255, 168, 827, 82, 277, 590, 643, 202, 720, 434, 169, 86, 408, 527, 454, 535, 655, 132, 729, 864, 277, 132, 387, 411, 52, 329, 99, 717, 529, 568]\n",
            "0.00023752499999929455 processing time in seconds\n",
            "0.23752499999929455 processing in milliseconds\n",
            "found at 2240\n",
            "==================================\n",
            "===Result list 100 items ===\n",
            "==================================\n",
            "[10, 100, 1000]\n",
            "[0.06807799999997144, 0.07373699999924099, 0.23752499999929455]\n"
          ]
        },
        {
          "output_type": "display_data",
          "data": {
            "image/png": "[encoded data removed]",
            "text/plain": [
              "<Figure size 432x288 with 1 Axes>"
            ]
          },
          "metadata": {
            "needs_background": "light"
          }
        }
      ]
    },
    {
      "cell_type": "code",
      "source": [
        ""
      ],
      "metadata": {
        "id": "6oNcFyZQjnhI"
      },
      "execution_count": null,
      "outputs": []
    },
    {
      "cell_type": "code",
      "source": [
        ""
      ],
      "metadata": {
        "id": "gT0OKRNYj31a"
      },
      "execution_count": null,
      "outputs": []
    },
    {
      "cell_type": "markdown",
      "source": [
        "BIG O EXTRAS:\n",
        "https://www.freecodecamp.org/news/big-o-notation-why-it-matters-and-why-it-doesnt-1674cfa8a23c/"
      ],
      "metadata": {
        "id": "wkxi7PG24ii7"
      }
    },
    {
      "cell_type": "code",
      "source": [
        "#\n",
        "# USE MATPLOTLIB TO SHOW HOW THE LINEAR SEARCH ALGORITHM PERFORM AS n INCREASES \n",
        "#\n",
        "# 1) plot 2 more points to make your linear graph more accurate\n",
        "#\n",
        "# 2) create a new colab notebook/VS project that would plot a graph for \n",
        "#    finding the first item in a list.\n",
        "#\n",
        "# 3) This should show a constant relationship.\n",
        "#    Consider the way Matplotlib works out the y-axis limits.\n",
        "#    Research and work out how to fix it to show a constant relationship.   \n"
      ],
      "metadata": {
        "id": "WOHyny0WCDGr"
      },
      "execution_count": null,
      "outputs": []
    },
    {
      "cell_type": "code",
      "source": [
        "# MAIN PROGRAM\n",
        "#\n",
        "# create a list with 10 items\n",
        "#\n",
        "MyList10 = []\n",
        "# create a list of 10 random numbers\n",
        "for x in range(10):\n",
        "  num = random.randint(1,100)\n",
        "  MyList10.append(num)\n",
        "#\n",
        "print(MyList10)\n",
        "NumToFind = MyList10[0]\n",
        "PlaceFound = 0\n",
        "#\n",
        "#\n",
        "# CALL THE LINEAR SEARCH FUNCTION\n",
        "#\n",
        "start_the_clock = time.process_time()   #START THE CLOCK\n",
        "\n",
        "PlaceFound = LSearch(MyList10, NumToFind)\n",
        "#\n",
        "#\n",
        "stop_the_clock = time.process_time()    #STOP THE CLOCK\n",
        "#\n",
        "print(\"==================================\")\n",
        "print(\"===linear search with 10 items ===\")\n",
        "print(\"==================================\")\n",
        "time_diff = stop_the_clock - start_the_clock\n",
        "print(time_diff, 'processing time in seconds')\n",
        "time_diff_ms = time_diff * 1000\n",
        "print(time_diff_ms, 'processing in milliseconds')\n",
        "if PlaceFound != -1:\n",
        "    print('found at ' + str(PlaceFound))\n",
        "else:\n",
        "    print('not found')\n",
        "#\n",
        "# ADD THE RESULTS TO THE LISTS\n",
        "#\n",
        "Results_n = []\n",
        "Results_t = [] \n",
        "Results_n.append(10)\n",
        "Results_t.append(time_diff_ms)\n",
        "print(\"==================================\")\n",
        "print(\"===Result list 10 items ===\")\n",
        "print(\"==================================\")\n",
        "print(Results_n) \n",
        "print(Results_t)  \n",
        "# USE MATPLOTLIB TO SHOW HOW THE LINEAR SEARCH ALGORITHM PERFORM AS n INCREASES \n",
        "#\n",
        "#\n",
        "import matplotlib.pyplot as plt\n",
        "plt.plot(Results_n, Results_t)\n",
        "plt.show()\n"
      ],
      "metadata": {
        "id": "Viv5LMSMjmh4",
        "outputId": "56b89290-229d-4f5f-b0ca-f3c5b28b9db4",
        "colab": {
          "base_uri": "https://localhost:8080/",
          "height": 473
        }
      },
      "execution_count": 25,
      "outputs": [
        {
          "output_type": "stream",
          "name": "stdout",
          "text": [
            "[55, 60, 72, 58, 18, 15, 99, 6, 65, 50]\n",
            "==================================\n",
            "===linear search with 10 items ===\n",
            "==================================\n",
            "4.308299999777887e-05 processing time in seconds\n",
            "0.04308299999777887 processing in milliseconds\n",
            "found at 0\n",
            "==================================\n",
            "===Result list 10 items ===\n",
            "==================================\n",
            "[10]\n",
            "[0.04308299999777887]\n"
          ]
        },
        {
          "output_type": "display_data",
          "data": {
            "image/png": "[encoded data removed]",
            "text/plain": [
              "<Figure size 432x288 with 1 Axes>"
            ]
          },
          "metadata": {
            "needs_background": "light"
          }
        }
      ]
    }
  ]
}